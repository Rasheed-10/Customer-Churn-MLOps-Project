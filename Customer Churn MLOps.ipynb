{
 "cells": [
  {
   "cell_type": "markdown",
   "id": "1320dd40-632e-4dd1-8f51-7bc06ab4ba50",
   "metadata": {},
   "source": [
    "## Customer Churn MLOps Project"
   ]
  },
  {
   "cell_type": "code",
   "execution_count": null,
   "id": "1139bfa5-1bef-4eea-a4c4-ae2f3d747e93",
   "metadata": {},
   "outputs": [],
   "source": []
  }
 ],
 "metadata": {
  "kernelspec": {
   "display_name": "Python [conda env:base] *",
   "language": "python",
   "name": "conda-base-py"
  },
  "language_info": {
   "codemirror_mode": {
    "name": "ipython",
    "version": 3
   },
   "file_extension": ".py",
   "mimetype": "text/x-python",
   "name": "python",
   "nbconvert_exporter": "python",
   "pygments_lexer": "ipython3",
   "version": "3.11.7"
  }
 },
 "nbformat": 4,
 "nbformat_minor": 5
}
